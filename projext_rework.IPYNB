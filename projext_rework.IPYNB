{
 "nbformat": 4,
 "nbformat_minor": 2,
 "metadata": {
  "language_info": {
   "name": "python",
   "codemirror_mode": {
    "name": "ipython",
    "version": 3
   },
   "version": "3.8.1-final"
  },
  "orig_nbformat": 2,
  "file_extension": ".py",
  "mimetype": "text/x-python",
  "name": "python",
  "npconvert_exporter": "python",
  "pygments_lexer": "ipython3",
  "version": 3,
  "kernelspec": {
   "name": "python38164bit99477a56c0784b0eacdc1a613b0056cb",
   "display_name": "Python 3.8.1 64-bit"
  }
 },
 "cells": [
  {
   "cell_type": "code",
   "execution_count": 23,
   "metadata": {},
   "outputs": [],
   "source": [
    "from IPython.display import clear_output\n",
    "\n",
    "def display_board(board):\n",
    "    clear_output()\n",
    "    print('- |  | ')\n",
    "    print(f' {board[0]}|{board[1]} |{board[2]}')\n",
    "    print( '  |  | ')\n",
    "    print( '--------')\n",
    "    print( '  |  | ')\n",
    "    print(f' {board[3]}|{board[4]} |{board[5]}')\n",
    "    print( '  |  | ')\n",
    "    print( '--------')\n",
    "    print( '  |  | ')\n",
    "    print(f' {board[6]}|{board[7]} |{board[8]}')\n",
    "    print( '  |  | ')\n",
    "\n"
   ]
  },
  {
   "cell_type": "code",
   "execution_count": 3,
   "metadata": {},
   "outputs": [],
   "source": [
    "def player_input():\n",
    "#code for getting player input and saving it in a variable marker\n",
    "    marker=''\n",
    "    while (marker != 'X' and  marker != 'O'):\n",
    "        marker = input('player, please pick X or O: ').upper()\n",
    "        player1 = marker\n",
    "        if player1 == 'X':\n",
    "            player2 = 'O'\n",
    "        else:\n",
    "            player2 = 'X'\n",
    "        return(player1,player2)\n",
    "            \n",
    "\n",
    "\n",
    "\n",
    "\n"
   ]
  },
  {
   "cell_type": "code",
   "execution_count": 4,
   "metadata": {},
   "outputs": [],
   "source": [
    "def marker_placer(board, marker, position):\n",
    "    \n",
    "    board[position] = marker"
   ]
  },
  {
   "cell_type": "code",
   "execution_count": 6,
   "metadata": {},
   "outputs": [],
   "source": [
    "def row_check(board,marker):\n",
    "   return (board[0] == board[1] == board[2]==marker or board[3] == board[4] == board[5]==marker or board[6] == board[7] == board[8]==marker)\n",
    "def column_check(board,marker):\n",
    "    return(board[0] == board[3] == board[6]==marker or board[1] == board[4] == board[7]==marker or board[2] == board[5] == board[8]==marker)\n",
    "def diagonal_check(board,marker):\n",
    "    return(board[0] == board[4] == board[8]==marker or board[2] and board[4] == board[6]==marker)\n",
    "    "
   ]
  },
  {
   "cell_type": "code",
   "execution_count": 7,
   "metadata": {},
   "outputs": [],
   "source": [
    "def win_checker(board,marker):\n",
    "    return(row_check(board,marker)or column_check(board,marker)or diagonal_check(board,marker))"
   ]
  },
  {
   "cell_type": "code",
   "execution_count": 9,
   "metadata": {},
   "outputs": [],
   "source": [
    "import random\n",
    "def choose_first():\n",
    "    if random.randint(1,2) is 1:\n",
    "        return('player 1')\n",
    "    else:\n",
    "        return(\"player 2\")"
   ]
  },
  {
   "cell_type": "code",
   "execution_count": 11,
   "metadata": {},
   "outputs": [],
   "source": [
    "def space_check(board,position):\n",
    "    return(board[position] == '' or board[position]== ' ')\n",
    "\n",
    "    "
   ]
  },
  {
   "cell_type": "code",
   "execution_count": 51,
   "metadata": {},
   "outputs": [],
   "source": [
    "def fullboard_check(board):\n",
    "   for i in range(0,9):\n",
    "       if space_check(board,i):\n",
    "           return False\n",
    "           #MEANS IF THERE IS A SPACE(FROM THE ALREASY DEFINED SPACE_CHECK FUNCTION IT MEANS THAT OUR BOARD IS NOT FULL THUS IT'LL RETURN A FALSE)\n",
    "\n",
    "   return True"
   ]
  },
  {
   "cell_type": "code",
   "execution_count": 27,
   "metadata": {},
   "outputs": [],
   "source": [
    "def player_choice(board):\n",
    "    position = -1\n",
    "    \n",
    "    while position not in list(range(0,9)) or not space_check(board, position):\n",
    "        position = int(input('Choose your next position: (0-8) '))\n",
    "\n",
    "        \n",
    "    return position"
   ]
  },
  {
   "cell_type": "code",
   "execution_count": 36,
   "metadata": {},
   "outputs": [],
   "source": [
    "def replay():\n",
    "    retry = input(\"do you want to replay: ? yes or no \")\n",
    "    return retry == 'yes'"
   ]
  },
  {
   "cell_type": "code",
   "execution_count": 70,
   "metadata": {},
   "outputs": [],
   "source": [
    "\n",
    "\n"
   ]
  },
  {
   "cell_type": "code",
   "execution_count": 69,
   "metadata": {},
   "outputs": [
    {
     "name": "stdout",
     "output_type": "stream",
     "text": "- |  | \n O|O |X\n  |  | \n--------\n  |  | \n X|X |O\n  |  | \n--------\n  |  | \n O|O |X\n  |  | \n A DRAW\n"
    }
   ],
   "source": [
    "print('welcome to tic tac toe')\n",
    "theboard = [' ']*9\n",
    "print(display_board(list(range(0,9))))\n",
    "while True:\n",
    "    player1_mark,player2_mark = player_input()\n",
    "#collect player input with already desinged function\n",
    "    player_turn = choose_first()\n",
    "    #randomy picks who goes first and assigns it to the player turn variable\n",
    "    print(player_turn + ' will start')\n",
    "    begin_game = input(\"DO YOU WANT TO BEGIN:y or n? \")\n",
    "    if begin_game.lower().startswith('y'):\n",
    "        game = True\n",
    "    else:\n",
    "        game = False\n",
    "#conditions to start the game \n",
    "    while game:\n",
    "        if player_turn == 'player 1':\n",
    "                display_board(theboard)\n",
    "                #prints out the board\n",
    "                position = player_choice(theboard)\n",
    "                #assigns variable position to the playerchoice function\n",
    "                \n",
    "                marker_placer(theboard,player1_mark,position)\n",
    "            \n",
    "                #assigns the marker to the bos=ard and prints it out\n",
    "                if win_checker(theboard,player1_mark):\n",
    "                   display_board(theboard)\n",
    "                   print('PLAYER 1 HAS WON')\n",
    "                   game = False\n",
    "                   \n",
    "                     #checks for a win and prints out the board\n",
    "                else:\n",
    "                    if fullboard_check(theboard):\n",
    "                       \n",
    "                        display_board(theboard) \n",
    "                        print('GAME A TIE')\n",
    "\n",
    "                        game = False\n",
    "                        #CHECKS FOR A TIE\n",
    "                    else:\n",
    "                        player_turn = 'player 2'\n",
    "        if player_turn == 'player 2':\n",
    "                display_board(theboard)\n",
    "                #prints out the board\n",
    "                position = player_choice(theboard)\n",
    "                #assigns variable position to the playerchoice function\n",
    "                marker_placer(theboard,player2_mark,position)\n",
    "\n",
    "                #assigns the marker to the bos=ard and prints it out\n",
    "                if win_checker(theboard,player2_mark):\n",
    "                    \n",
    "                    display_board(theboard)\n",
    "                    print('PLAYER 2 HAS WON')\n",
    "                    #checks for a win and prints out the board\n",
    "                    game = False\n",
    "                    \n",
    "                else:\n",
    "                    if fullboard_check(theboard):\n",
    "                        display_board(theboard)\n",
    "                        print(' A DRAW')\n",
    "                        \n",
    "                        break\n",
    "                    else:\n",
    "                        player_turn = 'player 1'\n",
    "    if not replay():\n",
    "                    break"
   ]
  },
  {
   "cell_type": "code",
   "execution_count": 86,
   "metadata": {},
   "outputs": [
    {
     "name": "stdout",
     "output_type": "stream",
     "text": "0\n1\n2\n3\n4\n5\n6\n7\n8\n"
    }
   ],
   "source": [
    "for i in list(range(0,9)):\n",
    "    print(i)"
   ]
  },
  {
   "cell_type": "code",
   "execution_count": 24,
   "metadata": {},
   "outputs": [
    {
     "name": "stdout",
     "output_type": "stream",
     "text": "[' ', ' ', ' ', ' ', ' ', ' ', ' ', ' ', ' ', ' ']\n"
    }
   ],
   "source": [
    "print([' ']*10)\n"
   ]
  },
  {
   "cell_type": "code",
   "execution_count": 72,
   "metadata": {},
   "outputs": [
    {
     "ename": "TypeError",
     "evalue": "list expected at most 1 argument, got 9",
     "output_type": "error",
     "traceback": [
      "\u001b[0;31m---------------------------------------------------------------------------\u001b[0m",
      "\u001b[0;31mTypeError\u001b[0m                                 Traceback (most recent call last)",
      "\u001b[0;32m<ipython-input-72-941f0aa836ec>\u001b[0m in \u001b[0;36m<module>\u001b[0;34m\u001b[0m\n\u001b[0;32m----> 1\u001b[0;31m \u001b[0;32mfor\u001b[0m \u001b[0mi\u001b[0m \u001b[0;32min\u001b[0m \u001b[0mrange\u001b[0m\u001b[0;34m(\u001b[0m\u001b[0mlist\u001b[0m\u001b[0;34m(\u001b[0m\u001b[0;36m0\u001b[0m\u001b[0;34m,\u001b[0m\u001b[0;36m1\u001b[0m\u001b[0;34m,\u001b[0m\u001b[0;36m2\u001b[0m\u001b[0;34m,\u001b[0m\u001b[0;36m3\u001b[0m\u001b[0;34m,\u001b[0m\u001b[0;36m4\u001b[0m\u001b[0;34m,\u001b[0m\u001b[0;36m5\u001b[0m\u001b[0;34m,\u001b[0m\u001b[0;36m6\u001b[0m\u001b[0;34m,\u001b[0m\u001b[0;36m7\u001b[0m\u001b[0;34m,\u001b[0m\u001b[0;36m8\u001b[0m\u001b[0;34m)\u001b[0m\u001b[0;34m)\u001b[0m\u001b[0;34m:\u001b[0m\u001b[0;34m\u001b[0m\u001b[0;34m\u001b[0m\u001b[0m\n\u001b[0m\u001b[1;32m      2\u001b[0m     \u001b[0mprint\u001b[0m\u001b[0;34m(\u001b[0m\u001b[0mi\u001b[0m\u001b[0;34m)\u001b[0m\u001b[0;34m\u001b[0m\u001b[0;34m\u001b[0m\u001b[0m\n",
      "\u001b[0;31mTypeError\u001b[0m: list expected at most 1 argument, got 9"
     ]
    }
   ],
   "source": [
    "for i in range(list():\n",
    "    print(i)"
   ]
  },
  {
   "cell_type": "code",
   "execution_count": 110,
   "metadata": {},
   "outputs": [
    {
     "name": "stdout",
     "output_type": "stream",
     "text": "[0, 'x', 2, 3, 4, 5, 6, 7, 8]\n"
    }
   ],
   "source": [
    "man = list(range(0,9))\n",
    "spot = input('PICL A MArker:')\n",
    "place = int(input('enter num:'))\n",
    "if 'X'.lower() in spot or 'O'.lower() in spot:\n",
    "    man[place] = spot\n",
    "print(man)"
   ]
  }
 ]
}