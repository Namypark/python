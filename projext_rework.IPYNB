{
 "nbformat": 4,
 "nbformat_minor": 2,
 "metadata": {
  "language_info": {
   "name": "python",
   "codemirror_mode": {
    "name": "ipython",
    "version": 3
   },
   "version": "3.8.1-final"
  },
  "orig_nbformat": 2,
  "file_extension": ".py",
  "mimetype": "text/x-python",
  "name": "python",
  "npconvert_exporter": "python",
  "pygments_lexer": "ipython3",
  "version": 3,
  "kernelspec": {
   "name": "python38164bit99477a56c0784b0eacdc1a613b0056cb",
   "display_name": "Python 3.8.1 64-bit"
  }
 },
 "cells": [
  {
   "cell_type": "code",
   "execution_count": 2,
   "metadata": {},
   "outputs": [
    {
     "name": "stdout",
     "output_type": "stream",
     "text": "- |  | \n x|o |x\n  |  | \n--------\n  |  | \n x|x |o\n  |  | \n--------\n  |  | \n o|o |x\n  |  | \n"
    }
   ],
   "source": [
    "from IPython.display import clear_output\n",
    "\n",
    "def display_board(board):\n",
    "    \n",
    "    print(' - |  | ')\n",
    "    print(f' {board[0]}|{board[1]} |{board[2]}')\n",
    "    print( '  |  | ')\n",
    "    print( '--------')\n",
    "    print( '  |  | ')\n",
    "    print(f' {board[3]}|{board[4]} |{board[5]}')\n",
    "    print( '  |  | ')\n",
    "    print( '--------')\n",
    "    print( '  |  | ')\n",
    "    print(f' {board[6]}|{board[7]} |{board[8]}')\n",
    "    print( '  |  | ')\n",
    "display_board(['x','o','x','x','x','o','o','o','x'])\n"
   ]
  },
  {
   "cell_type": "code",
   "execution_count": 53,
   "metadata": {},
   "outputs": [],
   "source": [
    "test = ['x','x','o','m','m','o','o','o','x']"
   ]
  },
  {
   "cell_type": "code",
   "execution_count": 54,
   "metadata": {},
   "outputs": [
    {
     "name": "stdout",
     "output_type": "stream",
     "text": "- |  | \n x|x |o\n  |  | \n--------\n  |  | \n m|m |o\n  |  | \n--------\n  |  | \n o|o |x\n  |  | \n"
    }
   ],
   "source": [
    "display_board(test)"
   ]
  },
  {
   "cell_type": "code",
   "execution_count": 1,
   "metadata": {},
   "outputs": [
    {
     "data": {
      "text/plain": "('x', 'o')"
     },
     "execution_count": 1,
     "metadata": {},
     "output_type": "execute_result"
    }
   ],
   "source": [
    "def player_input(marker):\n",
    "#code for getting player input and saving it in a variable marker\n",
    "    marker=''\n",
    "    while (marker != 'X' or marker != 'O'):\n",
    "        marker = input('player1, please pick X or O: ').lower()\n",
    "        player1 = marker\n",
    "        if player1 == 'x':\n",
    "            player2 = 'o'\n",
    "        else:\n",
    "            player2 = 'x'\n",
    "        return(player1,player2)\n",
    "            \n",
    "\n",
    "\n",
    "\n",
    "\n",
    "player_input('x')\n",
    "\n"
   ]
  },
  {
   "cell_type": "code",
   "execution_count": 14,
   "metadata": {},
   "outputs": [],
   "source": [
    "def marker_placer(board,marker, position):\n",
    "   \n",
    "    board[position] = marker"
   ]
  },
  {
   "cell_type": "code",
   "execution_count": 41,
   "metadata": {},
   "outputs": [
    {
     "name": "stdout",
     "output_type": "stream",
     "text": "- |  | \n 0|1 |2\n  |  | \n--------\n  |  | \n 3|^ |5\n  |  | \n--------\n  |  | \n 6|7 |8\n  |  | \n"
    }
   ],
   "source": [
    "marker_placer(test,'^',4)\n",
    "display_board(test)"
   ]
  },
  {
   "cell_type": "code",
   "execution_count": 42,
   "metadata": {},
   "outputs": [],
   "source": [
    "def win_checker(board,marker):\n",
    "    return board[0] and board[1] == board[2] or board[3] and board[4] == board[5] or board[6] and board[7] == board[8] or board[0] and board[3] == board[6] or board[1] and board[4] == board[7] or board[2] and board[5] == board[8] or board[0] and board[4] == board[8] or board[2] and board[4] == board[6]\n",
    "\n"
   ]
  },
  {
   "cell_type": "code",
   "execution_count": 55,
   "metadata": {},
   "outputs": [
    {
     "data": {
      "text/plain": "False"
     },
     "execution_count": 55,
     "metadata": {},
     "output_type": "execute_result"
    }
   ],
   "source": [
    "win_check(test,'o')"
   ]
  }
 ]
}