{
 "nbformat": 4,
 "nbformat_minor": 2,
 "metadata": {
  "language_info": {
   "name": "python",
   "codemirror_mode": {
    "name": "ipython",
    "version": 3
   },
   "version": "3.8.1-final"
  },
  "orig_nbformat": 2,
  "file_extension": ".py",
  "mimetype": "text/x-python",
  "name": "python",
  "npconvert_exporter": "python",
  "pygments_lexer": "ipython3",
  "version": 3,
  "kernelspec": {
   "name": "python38164bit99477a56c0784b0eacdc1a613b0056cb",
   "display_name": "Python 3.8.1 64-bit"
  }
 },
 "cells": [
  {
   "cell_type": "code",
   "execution_count": 3,
   "metadata": {},
   "outputs": [
    {
     "output_type": "stream",
     "name": "stdout",
     "text": "- |  | \n x|o |x\n  |  | \n--------\n  |  | \n x|x |o\n  |  | \n--------\n  |  | \n o|o |x\n  |  | \n"
    }
   ],
   "source": [
    "from IPython.display import clear_output\n",
    "\n",
    "def display_board(board):\n",
    "    \n",
    "    print(' - |  | ')\n",
    "    print(f' {board[0]}|{board[1]} |{board[2]}')\n",
    "    print( '  |  | ')\n",
    "    print( '--------')\n",
    "    print( '  |  | ')\n",
    "    print(f' {board[3]}|{board[4]} |{board[5]}')\n",
    "    print( '  |  | ')\n",
    "    print( '--------')\n",
    "    print( '  |  | ')\n",
    "    print(f' {board[6]}|{board[7]} |{board[8]}')\n",
    "    print( '  |  | ')\n",
    "display_board(['x','o','x','x','x','o','o','o','x'])\n",
    ""
   ]
  },
  {
   "cell_type": "code",
   "execution_count": 4,
   "metadata": {},
   "outputs": [],
   "source": [
    "test = ['x','o','o','x','o','o','x','x','x']"
   ]
  },
  {
   "cell_type": "code",
   "execution_count": 5,
   "metadata": {},
   "outputs": [
    {
     "output_type": "stream",
     "name": "stdout",
     "text": "- |  | \n x|o |o\n  |  | \n--------\n  |  | \n x|o |o\n  |  | \n--------\n  |  | \n x|x |x\n  |  | \n"
    }
   ],
   "source": [
    "display_board(test)"
   ]
  },
  {
   "cell_type": "code",
   "execution_count": 6,
   "metadata": {},
   "outputs": [],
   "source": [
    "def player_input():\n",
    "#code for getting player input and saving it in a variable marker\n",
    "    marker=''\n",
    "    while (marker != 'X' or marker != 'O'):\n",
    "        marker = input('player1, please pick X or O: ').upper()\n",
    "        player1 = marker\n",
    "        if player1 == 'X':\n",
    "            player2 = 'O'\n",
    "        else:\n",
    "            player2 = 'X'\n",
    "        return(player1,player2)\n",
    "            \n",
    "\n",
    "\n",
    "\n",
    ""
   ]
  },
  {
   "cell_type": "code",
   "execution_count": 7,
   "metadata": {},
   "outputs": [],
   "source": [
    "def marker_placer(board,marker, position):\n",
    "   \n",
    "    board[position] = marker"
   ]
  },
  {
   "cell_type": "code",
   "execution_count": 8,
   "metadata": {},
   "outputs": [
    {
     "output_type": "stream",
     "name": "stdout",
     "text": "- |  | \n x|o |o\n  |  | \n--------\n  |  | \n x|o |o\n  |  | \n--------\n  |  | \n x|x |x\n  |  | \n"
    }
   ],
   "source": [
    "marker_placer(test,'x',7)\n",
    "display_board(test)"
   ]
  },
  {
   "cell_type": "code",
   "execution_count": 9,
   "metadata": {},
   "outputs": [],
   "source": [
    "def row_check(board):\n",
    "   return (board[0] and board[1] == board[2] or board[3] and board[4] == board[5] or board[6] and board[7] == board[8])\n",
    "def column_check(board):\n",
    "    return(board[0] and board[3] == board[6] or board[1] and board[4] == board[7] or board[2] and board[5] == board[8])\n",
    "def diagonal_check(board):\n",
    "    return(board[0] and board[4] == board[8] or board[2] and board[4] == board[6])\n",
    "    "
   ]
  },
  {
   "cell_type": "code",
   "execution_count": 10,
   "metadata": {},
   "outputs": [],
   "source": [
    "def win_checker(board,marker_placer):\n",
    "    return(row_check(board) , column_check(board), diagonal_check(board))"
   ]
  },
  {
   "cell_type": "code",
   "execution_count": 11,
   "metadata": {},
   "outputs": [
    {
     "output_type": "error",
     "ename": "TypeError",
     "evalue": "win_checker() missing 1 required positional argument: 'marker_placer'",
     "traceback": [
      "\u001b[0;31m---------------------------------------------------------------------------\u001b[0m",
      "\u001b[0;31mTypeError\u001b[0m                                 Traceback (most recent call last)",
      "\u001b[0;32m<ipython-input-11-9a24f4a83a4a>\u001b[0m in \u001b[0;36m<module>\u001b[0;34m\u001b[0m\n\u001b[0;32m----> 1\u001b[0;31m \u001b[0mwin_checker\u001b[0m\u001b[0;34m(\u001b[0m\u001b[0mtest\u001b[0m\u001b[0;34m)\u001b[0m\u001b[0;34m\u001b[0m\u001b[0;34m\u001b[0m\u001b[0m\n\u001b[0m",
      "\u001b[0;31mTypeError\u001b[0m: win_checker() missing 1 required positional argument: 'marker_placer'"
     ]
    }
   ],
   "source": [
    "win_checker(test)"
   ]
  },
  {
   "cell_type": "code",
   "execution_count": null,
   "metadata": {},
   "outputs": [],
   "source": [
    "import random\n",
    "def choose_first():\n",
    "    if random.randint(1,2) is 1:\n",
    "        return('player 1')\n",
    "    else:\n",
    "        return(\"player 2\")"
   ]
  },
  {
   "cell_type": "code",
   "execution_count": null,
   "metadata": {},
   "outputs": [],
   "source": [
    "choose_first()"
   ]
  },
  {
   "cell_type": "code",
   "execution_count": null,
   "metadata": {},
   "outputs": [],
   "source": [
    "def space_check(board,position):\n",
    "    return(board[position] == '' or board[position]== ' ')\n",
    "\n",
    "    "
   ]
  },
  {
   "cell_type": "code",
   "execution_count": null,
   "metadata": {},
   "outputs": [],
   "source": [
    "space_check(test,1)"
   ]
  },
  {
   "cell_type": "code",
   "execution_count": null,
   "metadata": {},
   "outputs": [],
   "source": [
    "def fullboard_check(board):\n",
    "    if '' in board or ' ' in board:\n",
    "        return True\n",
    "    return False\n",
    "    "
   ]
  },
  {
   "cell_type": "code",
   "execution_count": null,
   "metadata": {},
   "outputs": [],
   "source": [
    "fullboard_check(test)"
   ]
  },
  {
   "cell_type": "code",
   "execution_count": null,
   "metadata": {},
   "outputs": [],
   "source": [
    "def player_choice(board):\n",
    "    position = -1\n",
    "    \n",
    "    while position not in [0,1,2,3,4,5,6,7,8] or not space_check(board, position):\n",
    "        position = int(input('Choose your next position: (0-8) '))\n",
    "\n",
    "        \n",
    "    return position"
   ]
  },
  {
   "cell_type": "code",
   "execution_count": null,
   "metadata": {},
   "outputs": [],
   "source": [
    "\n",
    "player_choice(test)"
   ]
  },
  {
   "cell_type": "code",
   "execution_count": null,
   "metadata": {},
   "outputs": [],
   "source": [
    "def replay():\n",
    "    retry = input(\"do you want to replay: ? yes or no \")\n",
    "    if 'yes'.lower() in retry:\n",
    "        return True\n",
    "    return False"
   ]
  },
  {
   "cell_type": "code",
   "execution_count": null,
   "metadata": {},
   "outputs": [],
   "source": [
    "replay()"
   ]
  },
  {
   "cell_type": "code",
   "execution_count": 23,
   "metadata": {},
   "outputs": [
    {
     "output_type": "stream",
     "name": "stdout",
     "text": "welcome to tic tac toe\nplayer 2 will start\n - |  | \n  |  | \n  |  | \n--------\n  |  | \n  |  | \n  |  | \n--------\n  |  | \n  |  | \n  |  | \n - |  | \n O|  | \n  |  | \n--------\n  |  | \n  |  | \n  |  | \n--------\n  |  | \n  |  | \n  |  | \nvictory\n - |  | \n O|  | \n  |  | \n--------\n  |  | \n  |  | \n  |  | \n--------\n  |  | \n  |  | \n  |  | \nplayer 2 will start\n - |  | \n O|  | \n  |  | \n--------\n  |  | \n  |  | \n  |  | \n--------\n  |  | \n  |  | \n  |  | \n - |  | \n O|X | \n  |  | \n--------\n  |  | \n  |  | \n  |  | \n--------\n  |  | \n  |  | \n  |  | \nvictory\n - |  | \n O|X | \n  |  | \n--------\n  |  | \n  |  | \n  |  | \n--------\n  |  | \n  |  | \n  |  | \nplayer 1 will start\nplayer 2 will start\nplayer 1 will start\nplayer 2 will start\nplayer 1 will start\nplayer 1 will start\nplayer 1 will start\nplayer 2 will start\nplayer 1 will start\nplayer 1 will start\n"
    }
   ],
   "source": [
    "print('welcome to tic tac toe')\n",
    "theboard = [\" \"]*10\n",
    "while True:\n",
    "    player1_mark,player2_mark = player_input()\n",
    "#collect player input with already desinged function\n",
    "    player_turn = choose_first()\n",
    "    #randomy picks who goes first and assigns it to the player turn variable\n",
    "    print(player_turn + ' will start')\n",
    "    begin_game = input(\"DO YOU WANT TO BEGIN: \")\n",
    "    if begin_game.startswith('y'):\n",
    "        game = True\n",
    "    if begin_game.lower().startswith('n'):\n",
    "        game = False\n",
    "#conditions to start the game \n",
    "    while game:\n",
    "        if player_turn == 'player 1':\n",
    "                display_board(theboard)\n",
    "                #prints out the board\n",
    "                position = player_choice(theboard)\n",
    "                #assigns variable position to the playerchoice function\n",
    "                marker_placer(theboard,player1_mark,position)\n",
    "                display_board(theboard)\n",
    "                #assigns the marker to the bos=ard and prints it out\n",
    "                if win_checker(theboard,player1_mark):\n",
    "                    print('victory')\n",
    "                    display_board(theboard)\n",
    "                    #checks for a win and prints out the board\n",
    "                    game = False\n",
    "                else:\n",
    "                    if fullboard_check(theboard):\n",
    "                        print('draw')\n",
    "                        display_board(theboard)\n",
    "                        break\n",
    "                    else:\n",
    "                        player_turn = 'player 2'\n",
    "        if player_turn == 'player 2':\n",
    "                display_board(theboard)\n",
    "                #prints out the board\n",
    "                position = player_choice(theboard)\n",
    "                #assigns variable position to the playerchoice function\n",
    "                marker_placer(theboard,player2_mark,position)\n",
    "                display_board(theboard)\n",
    "                #assigns the marker to the bos=ard and prints it out\n",
    "                if win_checker(theboard,player2_mark):\n",
    "                    print('victory')\n",
    "                    display_board(theboard)\n",
    "                    #checks for a win and prints out the board\n",
    "                    game = False\n",
    "                else:\n",
    "                    if fullboard_check(theboard):\n",
    "                        print('draw')\n",
    "                        display_board(theboard)\n",
    "                        break\n",
    "                    else:\n",
    "                        player_turn = 'player 1'"
   ]
  },
  {
   "cell_type": "code",
   "execution_count": null,
   "metadata": {},
   "outputs": [],
   "source": [
    "print([' ']*10)\n"
   ]
  },
  {
   "cell_type": "code",
   "execution_count": null,
   "metadata": {},
   "outputs": [],
   "source": []
  },
  {
   "cell_type": "code",
   "execution_count": null,
   "metadata": {},
   "outputs": [],
   "source": [
    "play()"
   ]
  }
 ]
}
