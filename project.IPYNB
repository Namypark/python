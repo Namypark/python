{
 "nbformat": 4,
 "nbformat_minor": 2,
 "metadata": {
  "language_info": {
   "name": "python",
   "codemirror_mode": {
    "name": "ipython",
    "version": 3
   },
   "version": "3.8.1-final"
  },
  "orig_nbformat": 2,
  "file_extension": ".py",
  "mimetype": "text/x-python",
  "name": "python",
  "npconvert_exporter": "python",
  "pygments_lexer": "ipython3",
  "version": 3,
  "kernelspec": {
   "name": "python38164bit99477a56c0784b0eacdc1a613b0056cb",
   "display_name": "Python 3.8.1 64-bit"
  }
 },
 "cells": [
  {
   "cell_type": "code",
   "execution_count": 23,
   "metadata": {},
   "outputs": [
    {
     "data": {
      "text/plain": "[0, 1, 2, 3, 4, 5, 6, 7, 8, 9]"
     },
     "execution_count": 23,
     "metadata": {},
     "output_type": "execute_result"
    }
   ],
   "source": [
    "list(range(0,10))"
   ]
  },
  {
   "cell_type": "code",
   "execution_count": 14,
   "metadata": {},
   "outputs": [
    {
     "name": "stdout",
     "output_type": "stream",
     "text": "{'player1': 0, 'player2': 0}\n"
    }
   ],
   "source": [
    " scores = dict({'player1':0,'player2':0})\n",
    " \n",
    " print (scores)"
   ]
  },
  {
   "cell_type": "code",
   "execution_count": 54,
   "metadata": {},
   "outputs": [],
   "source": [
    "\n",
    "    def play():\n",
    "       level = True\n",
    "       scores = {'player1':0,'player2':0}\n",
    "       mark = str(input('PLAYER 1: WILL YOU BE X OR AN O:'))\n",
    "       while True:\n",
    "          if mark == 'X'.lower():\n",
    "             return (\"you've selected an X\")\n",
    "          elif mark==\"O\".lower():\n",
    "             return(\"you've selected an O\")\n",
    "          pick_number = int(input('PICK A NUMBER'))\n",
    "        \n",
    "\n",
    "\n",
    "\n",
    "\n",
    "\n"
   ]
  },
  {
   "cell_type": "code",
   "execution_count": 55,
   "metadata": {},
   "outputs": [
    {
     "data": {
      "text/plain": "\"you've selected an X\""
     },
     "execution_count": 55,
     "metadata": {},
     "output_type": "execute_result"
    }
   ],
   "source": [
    "play()\n",
    ""
   ]
  },
  {
   "cell_type": "code",
   "execution_count": 1,
   "metadata": {},
   "outputs": [
    {
     "ename": "SyntaxError",
     "evalue": "unexpected EOF while parsing (<ipython-input-1-6048b8e3ba06>, line 14)",
     "output_type": "error",
     "traceback": [
      "\u001b[0;36m  File \u001b[0;32m\"<ipython-input-1-6048b8e3ba06>\"\u001b[0;36m, line \u001b[0;32m14\u001b[0m\n\u001b[0;31m    print('victory'\u001b[0m\n\u001b[0m                   ^\u001b[0m\n\u001b[0;31mSyntaxError\u001b[0m\u001b[0;31m:\u001b[0m unexpected EOF while parsing\n"
     ]
    }
   ],
   "source": [
    "def checkwin():\n",
    "     trials = 4\n",
    "     if mark != 'x'.lower() or mark != 'o'.lower():\n",
    "             trials -= 1\n",
    "     if trials <= 0:\n",
    "        raise ValueError(\"you fucked up\")\n",
    "     if mark== 1 and mark == 2 and mark ==3:\n",
    "         print('victory')\n",
    "     if mark== 1 and mark == 4 and mark ==7:\n",
    "         print('victory')\n",
    "     if mark== 1 and mark == 5 and mark ==9:\n",
    "         print('victory')\n",
    "     if mark== 2 and mark == 5 and mark ==8:\n",
    "         print('victory')\n",
    "     if mark== 3 and mark == 6 and mark ==9:\n",
    "         print('victory')\n",
    "     if mark== 4 and mark == 5 and mark ==6:\n",
    "         print('victory')\n",
    "     if mark== 7 and mark == 8 and mark ==9:\n",
    "         print('victory')\n",
    "     if mark== 3 and mark == 5 and mark ==7:\n",
    "         print('victory')\n",
    "     else:\n",
    "         return PLAY()"
   ]
  },
  {
   "cell_type": "code",
   "execution_count": 21,
   "metadata": {},
   "outputs": [],
   "source": [
    "def construct():\n",
    "    positions = list(range(1,11))\n",
    "    print('    ___________________________________')\n",
    "    print(f'|{positions[0]}       | {positions[1]}         |{positions[2]}            |')\n",
    "    print('|________|___________|_____________|')\n",
    "    print(f'|{positions[3]}       | {positions[4]}         |{positions[5]}            |')\n",
    "    print('|________|___________|_____________|')\n",
    "    print(f'|{positions[6]}       | {positions[7]}         |{positions[8]}            |')\n",
    "    print('|________|___________|_____________|')"
   ]
  },
  {
   "cell_type": "code",
   "execution_count": 22,
   "metadata": {},
   "outputs": [
    {
     "name": "stdout",
     "output_type": "stream",
     "text": "___________________________________\n|1       | 2         |3            |\n|________|___________|_____________|\n|4       | 5         |6            |\n|________|___________|_____________|\n|7       | 8         |9            |\n|________|___________|_____________|\n"
    }
   ],
   "source": [
    "construct()"
   ]
  }
 ]
}